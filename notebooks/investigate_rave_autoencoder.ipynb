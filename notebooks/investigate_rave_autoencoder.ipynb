{
 "cells": [
  {
   "cell_type": "markdown",
   "source": [
    "# Investigating RAVE's autoencoder"
   ],
   "metadata": {
    "collapsed": false
   }
  },
  {
   "cell_type": "code",
   "execution_count": null,
   "outputs": [],
   "source": [
    "import torch\n",
    "import numpy as np\n",
    "import librosa\n",
    "from IPython.display import Audio, display"
   ],
   "metadata": {
    "collapsed": false
   }
  },
  {
   "cell_type": "code",
   "execution_count": null,
   "outputs": [],
   "source": [
    "samplesound_path = '../data/processed/nus/predict/x/09_1.wav'\n",
    "resample_rate = 48000\n",
    "waveform, sr = librosa.load(samplesound_path, sr=resample_rate)"
   ],
   "metadata": {
    "collapsed": false
   }
  },
  {
   "cell_type": "code",
   "execution_count": null,
   "outputs": [],
   "source": [
    "waveform = np.expand_dims(waveform, axis=0)\n",
    "waveform_st = np.concatenate([waveform, waveform], axis=0)"
   ],
   "metadata": {
    "collapsed": false
   }
  },
  {
   "cell_type": "code",
   "execution_count": null,
   "outputs": [],
   "source": [
    "display(Audio(waveform_st, rate=sr))"
   ],
   "metadata": {
    "collapsed": false
   }
  },
  {
   "cell_type": "code",
   "execution_count": null,
   "outputs": [],
   "source": [
    "ae_path = '../models/pre-trained/VCTK.ts'\n",
    "ae_model = torch.jit.load(ae_path)"
   ],
   "metadata": {
    "collapsed": false
   }
  },
  {
   "cell_type": "code",
   "execution_count": null,
   "outputs": [],
   "source": [
    "def reconstruct1(autoencoder, waveform, blocksize = 262144, limit_segment = 5):\n",
    "    x = torch.from_numpy(waveform)\n",
    "    x = torch.unsqueeze(x, dim=0)\n",
    "    segments = x.size()[2] // blocksize\n",
    "    segment_size = np.minimum(limit_segment, segments)\n",
    "    resized_samples = segment_size * blocksize\n",
    "    x = x[:, :, 0:resized_samples]\n",
    "    y_pred = torch.zeros_like(x)\n",
    "    y_pred = torch.cat([y_pred,y_pred],dim=1)\n",
    "    # print(y_pred.size())\n",
    "    for i in range(0, segment_size):\n",
    "        offsets = i * blocksize\n",
    "        x_segment = x[:, :, offsets: (offsets + blocksize)]\n",
    "        with torch.no_grad():\n",
    "            # print(x_segment.size())\n",
    "            y_pred_segment = autoencoder(x_segment)\n",
    "        y_pred[:, :, offsets: (offsets + blocksize)] = y_pred_segment\n",
    "    y = torch.squeeze(y_pred)\n",
    "    return y.detach().numpy()"
   ],
   "metadata": {
    "collapsed": false
   }
  },
  {
   "cell_type": "code",
   "execution_count": null,
   "outputs": [],
   "source": [
    "y1_pred = reconstruct1(ae_model, waveform, blocksize=2**15, limit_segment=40)"
   ],
   "metadata": {
    "collapsed": false
   }
  },
  {
   "cell_type": "code",
   "execution_count": null,
   "outputs": [],
   "source": [
    "display(Audio(y1_pred, rate=sr))"
   ],
   "metadata": {
    "collapsed": false
   }
  },
  {
   "cell_type": "markdown",
   "source": [
    "# Comments\n",
    "- while trying out vctk audio, it sounds reasonable, but still with quite abit of artifacts.\n",
    "- Rave ae is able to prevent clicks from block processings, probably due to the use of their `cached_conv`.\n",
    "- for nus wav, Audio reconstruction is weird, it is kind of expected as it only trained from vctk audio."
   ],
   "metadata": {
    "collapsed": false
   }
  },
  {
   "cell_type": "code",
   "execution_count": null,
   "outputs": [],
   "source": [],
   "metadata": {
    "collapsed": false
   }
  }
 ],
 "metadata": {
  "kernelspec": {
   "name": "wave",
   "language": "python",
   "display_name": "Python (wave)"
  },
  "language_info": {
   "codemirror_mode": {
    "name": "ipython",
    "version": 2
   },
   "file_extension": ".py",
   "mimetype": "text/x-python",
   "name": "python",
   "nbconvert_exporter": "python",
   "pygments_lexer": "ipython2",
   "version": "2.7.6"
  }
 },
 "nbformat": 4,
 "nbformat_minor": 0
}
