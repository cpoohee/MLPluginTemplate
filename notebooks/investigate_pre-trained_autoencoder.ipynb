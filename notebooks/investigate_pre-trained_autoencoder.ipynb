{
 "cells": [
  {
   "cell_type": "markdown",
   "source": [
    "# Investigating pre-trained Audio autoencoder"
   ],
   "metadata": {
    "collapsed": false
   }
  },
  {
   "cell_type": "markdown",
   "source": [
    "https://github.com/archinetai/archisound"
   ],
   "metadata": {
    "collapsed": false
   }
  },
  {
   "cell_type": "code",
   "execution_count": null,
   "outputs": [],
   "source": [
    "import numpy as np\n",
    "import torch\n",
    "import librosa\n",
    "from archisound import ArchiSound\n",
    "from IPython.display import Audio, display"
   ],
   "metadata": {
    "collapsed": false
   }
  },
  {
   "cell_type": "markdown",
   "source": [
    "# Load an audio"
   ],
   "metadata": {
    "collapsed": false
   }
  },
  {
   "cell_type": "code",
   "execution_count": null,
   "outputs": [],
   "source": [
    "samplesound_path = '../data/raw/nus-48e/ADIZ/sing/09.wav'"
   ],
   "metadata": {
    "collapsed": false
   }
  },
  {
   "cell_type": "code",
   "execution_count": null,
   "outputs": [],
   "source": [
    "resample_rate = 48000"
   ],
   "metadata": {
    "collapsed": false
   }
  },
  {
   "cell_type": "code",
   "execution_count": null,
   "outputs": [],
   "source": [
    "waveform, sr = librosa.load(samplesound_path, sr=resample_rate)"
   ],
   "metadata": {
    "collapsed": false
   }
  },
  {
   "cell_type": "code",
   "execution_count": null,
   "outputs": [],
   "source": [
    "display(Audio(waveform, rate=sr))"
   ],
   "metadata": {
    "collapsed": false
   }
  },
  {
   "cell_type": "code",
   "execution_count": null,
   "outputs": [],
   "source": [
    "np.shape(waveform)"
   ],
   "metadata": {
    "collapsed": false
   }
  },
  {
   "cell_type": "code",
   "execution_count": null,
   "outputs": [],
   "source": [
    "waveform = np.expand_dims(waveform, axis=0)\n",
    "np.shape(waveform)"
   ],
   "metadata": {
    "collapsed": false
   }
  },
  {
   "cell_type": "code",
   "execution_count": null,
   "outputs": [],
   "source": [
    "waveform_st = np.concatenate([waveform,waveform], axis=0)\n",
    "np.shape(waveform_st)"
   ],
   "metadata": {
    "collapsed": false
   }
  },
  {
   "cell_type": "markdown",
   "source": [
    "# Prep Autoencoders"
   ],
   "metadata": {
    "collapsed": false
   }
  },
  {
   "cell_type": "markdown",
   "source": [
    "We will try out the 3 pre-trained models from archisound; autoencoder1d-AT-v1, dmae1d-ATC32-v3, and dmae1d-ATC64-v2."
   ],
   "metadata": {
    "collapsed": false
   }
  },
  {
   "cell_type": "code",
   "execution_count": null,
   "outputs": [],
   "source": [
    "def reconstruct1(autoencoder, waveform, blocksize = 262144, limit_segment = 5):\n",
    "    with torch.no_grad():\n",
    "        x = torch.from_numpy(waveform)\n",
    "        x = torch.unsqueeze(x, dim=0)\n",
    "        segments = x.size()[2] // blocksize\n",
    "        segment_size = np.minimum(limit_segment, segments)\n",
    "        resized_samples = segment_size * blocksize\n",
    "        x = x[:, :, 0:resized_samples]\n",
    "        y_pred = torch.zeros_like(x)\n",
    "        for i in range(0, segment_size):\n",
    "            offsets = i * blocksize\n",
    "            x_segment = x[:, :, offsets: (offsets + blocksize)]\n",
    "            z_segment = autoencoder.encode(x_segment) # [1, 32, 8192]\n",
    "            y_pred_segment = autoencoder.decode(z_segment)\n",
    "            y_pred[:, :, offsets: (offsets + blocksize)] = y_pred_segment\n",
    "        y = torch.squeeze(y_pred)\n",
    "        return y.detach().numpy()"
   ],
   "metadata": {
    "collapsed": false
   }
  },
  {
   "cell_type": "code",
   "execution_count": null,
   "outputs": [],
   "source": [
    "def reconstruct2(autoencoder, waveform, blocksize = 262144, limit_segment = 5):\n",
    "    with torch.no_grad():\n",
    "        x = torch.from_numpy(waveform)\n",
    "        x = torch.unsqueeze(x, dim=0)\n",
    "        segments = x.size()[2] // blocksize\n",
    "        segment_size = np.minimum(limit_segment, segments)\n",
    "        resized_samples = segment_size * blocksize\n",
    "        x = x[:, :, 0:resized_samples]\n",
    "        y_pred = torch.zeros_like(x)\n",
    "        for i in range(0, segment_size):\n",
    "            offsets = i * blocksize\n",
    "            x_segment = x[:, :, offsets: (offsets + blocksize)]\n",
    "            z_segment = autoencoder.encode(x_segment)\n",
    "            y_pred_segment = autoencoder.decode(z_segment, num_steps=20)\n",
    "            y_pred[:, :, offsets: (offsets + blocksize)] = y_pred_segment\n",
    "        y = torch.squeeze(y_pred)\n",
    "        return y.detach().numpy()"
   ],
   "metadata": {
    "collapsed": false
   }
  },
  {
   "cell_type": "markdown",
   "source": [
    "## autoencoder1d-AT-v1 Reconstruction"
   ],
   "metadata": {
    "collapsed": false
   }
  },
  {
   "cell_type": "code",
   "execution_count": null,
   "outputs": [],
   "source": [
    "autoencoder = ArchiSound.from_pretrained('autoencoder1d-AT-v1')\n",
    "autoencoder.eval()\n",
    "autoencoder.zero_grad()"
   ],
   "metadata": {
    "collapsed": false
   }
  },
  {
   "cell_type": "code",
   "execution_count": null,
   "outputs": [],
   "source": [
    "y1_pred = reconstruct1(autoencoder, waveform_st)"
   ],
   "metadata": {
    "collapsed": false
   }
  },
  {
   "cell_type": "code",
   "execution_count": null,
   "outputs": [],
   "source": [
    "display(Audio(y1_pred, rate=sr))"
   ],
   "metadata": {
    "collapsed": false
   }
  },
  {
   "cell_type": "markdown",
   "source": [
    "# comments:\n",
    "- click artifacts at the start of the block sample\n",
    "- reconstructed sound is not great (autoencoder1d-AT-v1)"
   ],
   "metadata": {
    "collapsed": false
   }
  },
  {
   "cell_type": "markdown",
   "source": [
    "## dmae1d-ATC32-v3 Reconstruction"
   ],
   "metadata": {
    "collapsed": false
   }
  },
  {
   "cell_type": "code",
   "execution_count": null,
   "outputs": [],
   "source": [
    "autoencoder = ArchiSound.from_pretrained('dmae1d-ATC32-v3')\n",
    "autoencoder.eval()\n",
    "autoencoder.zero_grad()"
   ],
   "metadata": {
    "collapsed": false
   }
  },
  {
   "cell_type": "code",
   "execution_count": null,
   "outputs": [],
   "source": [
    "y2_pred = reconstruct2(autoencoder, waveform_st)\n",
    "display(Audio(y2_pred, rate=sr))"
   ],
   "metadata": {
    "collapsed": false
   }
  },
  {
   "cell_type": "markdown",
   "source": [
    "# comments:\n",
    "- click artifacts at the start of the block sample\n",
    "- reconstructed sound is very bad (dmae1d-ATC32-v3)"
   ],
   "metadata": {
    "collapsed": false
   }
  },
  {
   "cell_type": "markdown",
   "source": [
    "## dmae1d-ATC64-v2 Reconstruction"
   ],
   "metadata": {
    "collapsed": false
   }
  },
  {
   "cell_type": "code",
   "execution_count": null,
   "outputs": [],
   "source": [
    "autoencoder = ArchiSound.from_pretrained(\"dmae1d-ATC64-v2\")\n",
    "autoencoder.eval()\n",
    "autoencoder.zero_grad()"
   ],
   "metadata": {
    "collapsed": false
   }
  },
  {
   "cell_type": "code",
   "execution_count": null,
   "outputs": [],
   "source": [
    "y3_pred = reconstruct2(autoencoder, waveform_st)\n",
    "display(Audio(y3_pred, rate=sr))"
   ],
   "metadata": {
    "collapsed": false
   }
  },
  {
   "cell_type": "markdown",
   "source": [
    "# comments:\n",
    "- click artifacts at the start of the block sample\n",
    "- reconstructed sound is very bad (dmae1d-ATC64-v2)"
   ],
   "metadata": {
    "collapsed": false
   }
  },
  {
   "cell_type": "markdown",
   "source": [
    "Findings: seems like autoencoder1d-AT-v1 is among the better sounding one."
   ],
   "metadata": {
    "collapsed": false
   }
  },
  {
   "cell_type": "markdown",
   "source": [
    "# Investigations with varying blocksize\n",
    "the starting of the blocks is expected to produce click, we just need to determine the quality ignoring the clicks"
   ],
   "metadata": {
    "collapsed": false
   }
  },
  {
   "cell_type": "code",
   "execution_count": null,
   "outputs": [],
   "source": [
    "autoencoder = ArchiSound.from_pretrained('autoencoder1d-AT-v1')\n",
    "autoencoder.eval()\n",
    "autoencoder.zero_grad()"
   ],
   "metadata": {
    "collapsed": false
   }
  },
  {
   "cell_type": "code",
   "execution_count": null,
   "outputs": [],
   "source": [
    "y4_pred = reconstruct1(autoencoder, waveform_st, blocksize=131072, limit_segment=10)\n",
    "display(Audio(y4_pred, rate=sr))"
   ],
   "metadata": {
    "collapsed": false
   }
  },
  {
   "cell_type": "markdown",
   "source": [
    "Sounds okay"
   ],
   "metadata": {
    "collapsed": false
   }
  },
  {
   "cell_type": "code",
   "execution_count": null,
   "outputs": [],
   "source": [
    "y5_pred = reconstruct1(autoencoder, waveform_st, blocksize=65536, limit_segment=20)\n",
    "display(Audio(y5_pred, rate=sr))"
   ],
   "metadata": {
    "collapsed": false
   }
  },
  {
   "cell_type": "markdown",
   "source": [
    "Sounds okay"
   ],
   "metadata": {
    "collapsed": false
   }
  },
  {
   "cell_type": "code",
   "execution_count": null,
   "outputs": [],
   "source": [
    "y6_pred = reconstruct1(autoencoder, waveform_st, blocksize=32768, limit_segment=40)\n",
    "display(Audio(y6_pred, rate=sr))"
   ],
   "metadata": {
    "collapsed": false
   }
  },
  {
   "cell_type": "markdown",
   "source": [
    "Sounds okay"
   ],
   "metadata": {
    "collapsed": false
   }
  },
  {
   "cell_type": "code",
   "execution_count": null,
   "outputs": [],
   "source": [
    "y7_pred = reconstruct1(autoencoder, waveform_st, blocksize=16384, limit_segment=80)\n",
    "display(Audio(y7_pred, rate=sr))"
   ],
   "metadata": {
    "collapsed": false
   }
  },
  {
   "cell_type": "markdown",
   "source": [
    "slight high frequency noise"
   ],
   "metadata": {
    "collapsed": false
   }
  },
  {
   "cell_type": "code",
   "execution_count": null,
   "outputs": [],
   "source": [
    "y8_pred = reconstruct1(autoencoder, waveform_st, blocksize=8192, limit_segment=160)\n",
    "display(Audio(y8_pred, rate=sr))"
   ],
   "metadata": {
    "collapsed": false
   }
  },
  {
   "cell_type": "markdown",
   "source": [
    "high frequency noise, degraded audio"
   ],
   "metadata": {
    "collapsed": false
   }
  },
  {
   "cell_type": "code",
   "execution_count": null,
   "outputs": [],
   "source": [
    "y9_pred = reconstruct1(autoencoder, waveform_st, blocksize=4096, limit_segment=320)\n",
    "display(Audio(y9_pred, rate=sr))"
   ],
   "metadata": {
    "collapsed": false
   }
  },
  {
   "cell_type": "markdown",
   "source": [
    "high frequency noise, very degraded audio"
   ],
   "metadata": {
    "collapsed": false
   }
  },
  {
   "cell_type": "markdown",
   "source": [
    "# Investigating oversampling audio reconstruction"
   ],
   "metadata": {
    "collapsed": false
   }
  },
  {
   "cell_type": "code",
   "execution_count": null,
   "outputs": [],
   "source": [
    "resample_rate = 96000\n",
    "waveform, sr = librosa.load(samplesound_path, sr=resample_rate)\n",
    "waveform = np.expand_dims(waveform, axis=0)\n",
    "waveform_st = np.concatenate([waveform, waveform], axis=0)"
   ],
   "metadata": {
    "collapsed": false
   }
  },
  {
   "cell_type": "code",
   "execution_count": null,
   "outputs": [],
   "source": [
    "display(Audio(waveform_st, rate=sr))"
   ],
   "metadata": {
    "collapsed": false
   }
  },
  {
   "cell_type": "code",
   "execution_count": null,
   "outputs": [],
   "source": [
    "y10_pred = reconstruct1(autoencoder, waveform_st, blocksize=32768, limit_segment=80)\n",
    "display(Audio(y10_pred, rate=sr))"
   ],
   "metadata": {
    "collapsed": false
   }
  },
  {
   "cell_type": "code",
   "execution_count": null,
   "outputs": [],
   "source": [
    "y11_pred = reconstruct1(autoencoder, waveform_st, blocksize=16384, limit_segment=80)\n",
    "display(Audio(y11_pred, rate=sr))"
   ],
   "metadata": {
    "collapsed": false
   }
  },
  {
   "cell_type": "code",
   "execution_count": null,
   "outputs": [],
   "source": [
    "resample_rate = 192000\n",
    "waveform, sr = librosa.load(samplesound_path, sr=resample_rate)\n",
    "waveform = np.expand_dims(waveform, axis=0)\n",
    "waveform_st = np.concatenate([waveform, waveform], axis=0)"
   ],
   "metadata": {
    "collapsed": false
   }
  },
  {
   "cell_type": "code",
   "execution_count": null,
   "outputs": [],
   "source": [
    "y12_pred = reconstruct1(autoencoder, waveform_st, blocksize=32768, limit_segment=80)\n",
    "display(Audio(y12_pred, rate=sr))"
   ],
   "metadata": {
    "collapsed": false
   }
  },
  {
   "cell_type": "markdown",
   "source": [
    "It kind of worked for oversampled audio. while maintaining limits of input block size of 32768, is about 0.17 sec in 192000 samplerate.\n",
    "A block size of 32768 under 48000 is 0.68 sec, which might hurt plugin performance."
   ],
   "metadata": {
    "collapsed": false
   }
  },
  {
   "cell_type": "code",
   "execution_count": null,
   "outputs": [],
   "source": [],
   "metadata": {
    "collapsed": false
   }
  }
 ],
 "metadata": {
  "kernelspec": {
   "name": "wave",
   "language": "python",
   "display_name": "Python (wave)"
  },
  "language_info": {
   "codemirror_mode": {
    "name": "ipython",
    "version": 2
   },
   "file_extension": ".py",
   "mimetype": "text/x-python",
   "name": "python",
   "nbconvert_exporter": "python",
   "pygments_lexer": "ipython2",
   "version": "2.7.6"
  }
 },
 "nbformat": 4,
 "nbformat_minor": 0
}
